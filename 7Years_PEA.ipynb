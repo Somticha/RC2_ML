{
 "cells": [
  {
   "cell_type": "code",
   "execution_count": 3,
   "metadata": {},
   "outputs": [],
   "source": [
    "import pandas as pd\n",
    "import numpy as np\n",
    "import matplotlib.pyplot as plt\n",
    "import seaborn as sns\n",
    "import os\n",
    "from sklearn.datasets import make_classification\n",
    "%matplotlib inline"
   ]
  },
  {
   "cell_type": "code",
   "execution_count": 4,
   "metadata": {
    "scrolled": true
   },
   "outputs": [
    {
     "name": "stdout",
     "output_type": "stream",
     "text": [
      "<class 'pandas.core.frame.DataFrame'>\n",
      "RangeIndex: 468962 entries, 0 to 468961\n",
      "Data columns (total 15 columns):\n",
      "hour           468962 non-null int64\n",
      "minute         468962 non-null int64\n",
      "TotalTime      468962 non-null float64\n",
      "CauseType      468962 non-null float64\n",
      "Region         468962 non-null int64\n",
      "PEALv          468962 non-null int64\n",
      "Weather        468962 non-null int64\n",
      "Cus            468962 non-null float64\n",
      "day            468962 non-null int64\n",
      "month          468962 non-null int64\n",
      "year           468962 non-null int64\n",
      "Date           468962 non-null int64\n",
      "EquipWork_B    468962 non-null int64\n",
      "EquipWork_F    468962 non-null int64\n",
      "EquipWork_R    468962 non-null int64\n",
      "dtypes: float64(3), int64(12)\n",
      "memory usage: 53.7 MB\n"
     ]
    }
   ],
   "source": [
    "df = pd.read_csv('EventForML.csv')\n",
    "df.info()"
   ]
  },
  {
   "cell_type": "code",
   "execution_count": 5,
   "metadata": {},
   "outputs": [
    {
     "data": {
      "text/html": [
       "<div>\n",
       "<style scoped>\n",
       "    .dataframe tbody tr th:only-of-type {\n",
       "        vertical-align: middle;\n",
       "    }\n",
       "\n",
       "    .dataframe tbody tr th {\n",
       "        vertical-align: top;\n",
       "    }\n",
       "\n",
       "    .dataframe thead th {\n",
       "        text-align: right;\n",
       "    }\n",
       "</style>\n",
       "<table border=\"1\" class=\"dataframe\">\n",
       "  <thead>\n",
       "    <tr style=\"text-align: right;\">\n",
       "      <th></th>\n",
       "      <th>hour</th>\n",
       "      <th>minute</th>\n",
       "      <th>TotalTime</th>\n",
       "      <th>CauseType</th>\n",
       "      <th>Region</th>\n",
       "      <th>PEALv</th>\n",
       "      <th>Weather</th>\n",
       "      <th>Cus</th>\n",
       "      <th>day</th>\n",
       "      <th>month</th>\n",
       "      <th>year</th>\n",
       "      <th>Date</th>\n",
       "      <th>EquipWork_B</th>\n",
       "      <th>EquipWork_F</th>\n",
       "      <th>EquipWork_R</th>\n",
       "    </tr>\n",
       "  </thead>\n",
       "  <tbody>\n",
       "    <tr>\n",
       "      <th>0</th>\n",
       "      <td>0</td>\n",
       "      <td>30</td>\n",
       "      <td>60.0</td>\n",
       "      <td>5.0</td>\n",
       "      <td>2</td>\n",
       "      <td>1</td>\n",
       "      <td>1</td>\n",
       "      <td>2.314815e-08</td>\n",
       "      <td>1</td>\n",
       "      <td>1</td>\n",
       "      <td>2013</td>\n",
       "      <td>3</td>\n",
       "      <td>0</td>\n",
       "      <td>1</td>\n",
       "      <td>0</td>\n",
       "    </tr>\n",
       "    <tr>\n",
       "      <th>1</th>\n",
       "      <td>0</td>\n",
       "      <td>30</td>\n",
       "      <td>15.0</td>\n",
       "      <td>7.0</td>\n",
       "      <td>1</td>\n",
       "      <td>1</td>\n",
       "      <td>2</td>\n",
       "      <td>4.629630e-11</td>\n",
       "      <td>1</td>\n",
       "      <td>1</td>\n",
       "      <td>2013</td>\n",
       "      <td>3</td>\n",
       "      <td>0</td>\n",
       "      <td>1</td>\n",
       "      <td>0</td>\n",
       "    </tr>\n",
       "    <tr>\n",
       "      <th>2</th>\n",
       "      <td>1</td>\n",
       "      <td>0</td>\n",
       "      <td>60.0</td>\n",
       "      <td>7.0</td>\n",
       "      <td>1</td>\n",
       "      <td>1</td>\n",
       "      <td>1</td>\n",
       "      <td>9.074074e-09</td>\n",
       "      <td>1</td>\n",
       "      <td>1</td>\n",
       "      <td>2013</td>\n",
       "      <td>3</td>\n",
       "      <td>0</td>\n",
       "      <td>1</td>\n",
       "      <td>0</td>\n",
       "    </tr>\n",
       "    <tr>\n",
       "      <th>3</th>\n",
       "      <td>1</td>\n",
       "      <td>30</td>\n",
       "      <td>50.0</td>\n",
       "      <td>5.0</td>\n",
       "      <td>11</td>\n",
       "      <td>1</td>\n",
       "      <td>2</td>\n",
       "      <td>4.629630e-11</td>\n",
       "      <td>1</td>\n",
       "      <td>1</td>\n",
       "      <td>2013</td>\n",
       "      <td>3</td>\n",
       "      <td>0</td>\n",
       "      <td>1</td>\n",
       "      <td>0</td>\n",
       "    </tr>\n",
       "    <tr>\n",
       "      <th>4</th>\n",
       "      <td>1</td>\n",
       "      <td>50</td>\n",
       "      <td>40.0</td>\n",
       "      <td>7.0</td>\n",
       "      <td>1</td>\n",
       "      <td>1</td>\n",
       "      <td>1</td>\n",
       "      <td>1.157407e-08</td>\n",
       "      <td>1</td>\n",
       "      <td>1</td>\n",
       "      <td>2013</td>\n",
       "      <td>3</td>\n",
       "      <td>0</td>\n",
       "      <td>1</td>\n",
       "      <td>0</td>\n",
       "    </tr>\n",
       "  </tbody>\n",
       "</table>\n",
       "</div>"
      ],
      "text/plain": [
       "   hour  minute  TotalTime  CauseType  Region  PEALv  Weather           Cus  \\\n",
       "0     0      30       60.0        5.0       2      1        1  2.314815e-08   \n",
       "1     0      30       15.0        7.0       1      1        2  4.629630e-11   \n",
       "2     1       0       60.0        7.0       1      1        1  9.074074e-09   \n",
       "3     1      30       50.0        5.0      11      1        2  4.629630e-11   \n",
       "4     1      50       40.0        7.0       1      1        1  1.157407e-08   \n",
       "\n",
       "   day  month  year  Date  EquipWork_B  EquipWork_F  EquipWork_R  \n",
       "0    1      1  2013     3            0            1            0  \n",
       "1    1      1  2013     3            0            1            0  \n",
       "2    1      1  2013     3            0            1            0  \n",
       "3    1      1  2013     3            0            1            0  \n",
       "4    1      1  2013     3            0            1            0  "
      ]
     },
     "execution_count": 5,
     "metadata": {},
     "output_type": "execute_result"
    }
   ],
   "source": [
    "df.head()"
   ]
  },
  {
   "cell_type": "code",
   "execution_count": 6,
   "metadata": {},
   "outputs": [],
   "source": [
    "df = df.loc[df['Region'] == 7] "
   ]
  },
  {
   "cell_type": "code",
   "execution_count": 7,
   "metadata": {},
   "outputs": [],
   "source": [
    "df = df.drop(['Region', 'Cus','TotalTime','year'], axis=1)"
   ]
  },
  {
   "cell_type": "code",
   "execution_count": 8,
   "metadata": {},
   "outputs": [
    {
     "data": {
      "text/html": [
       "<div>\n",
       "<style scoped>\n",
       "    .dataframe tbody tr th:only-of-type {\n",
       "        vertical-align: middle;\n",
       "    }\n",
       "\n",
       "    .dataframe tbody tr th {\n",
       "        vertical-align: top;\n",
       "    }\n",
       "\n",
       "    .dataframe thead th {\n",
       "        text-align: right;\n",
       "    }\n",
       "</style>\n",
       "<table border=\"1\" class=\"dataframe\">\n",
       "  <thead>\n",
       "    <tr style=\"text-align: right;\">\n",
       "      <th></th>\n",
       "      <th>hour</th>\n",
       "      <th>minute</th>\n",
       "      <th>CauseType</th>\n",
       "      <th>PEALv</th>\n",
       "      <th>Weather</th>\n",
       "      <th>day</th>\n",
       "      <th>month</th>\n",
       "      <th>Date</th>\n",
       "      <th>EquipWork_B</th>\n",
       "      <th>EquipWork_F</th>\n",
       "      <th>EquipWork_R</th>\n",
       "    </tr>\n",
       "  </thead>\n",
       "  <tbody>\n",
       "    <tr>\n",
       "      <th>28</th>\n",
       "      <td>7</td>\n",
       "      <td>15</td>\n",
       "      <td>5.0</td>\n",
       "      <td>1</td>\n",
       "      <td>2</td>\n",
       "      <td>1</td>\n",
       "      <td>1</td>\n",
       "      <td>3</td>\n",
       "      <td>0</td>\n",
       "      <td>1</td>\n",
       "      <td>0</td>\n",
       "    </tr>\n",
       "    <tr>\n",
       "      <th>51</th>\n",
       "      <td>9</td>\n",
       "      <td>30</td>\n",
       "      <td>5.0</td>\n",
       "      <td>1</td>\n",
       "      <td>1</td>\n",
       "      <td>1</td>\n",
       "      <td>1</td>\n",
       "      <td>3</td>\n",
       "      <td>0</td>\n",
       "      <td>1</td>\n",
       "      <td>0</td>\n",
       "    </tr>\n",
       "    <tr>\n",
       "      <th>53</th>\n",
       "      <td>9</td>\n",
       "      <td>35</td>\n",
       "      <td>7.0</td>\n",
       "      <td>1</td>\n",
       "      <td>1</td>\n",
       "      <td>1</td>\n",
       "      <td>1</td>\n",
       "      <td>3</td>\n",
       "      <td>0</td>\n",
       "      <td>1</td>\n",
       "      <td>0</td>\n",
       "    </tr>\n",
       "    <tr>\n",
       "      <th>59</th>\n",
       "      <td>10</td>\n",
       "      <td>0</td>\n",
       "      <td>5.0</td>\n",
       "      <td>1</td>\n",
       "      <td>1</td>\n",
       "      <td>1</td>\n",
       "      <td>1</td>\n",
       "      <td>3</td>\n",
       "      <td>0</td>\n",
       "      <td>1</td>\n",
       "      <td>0</td>\n",
       "    </tr>\n",
       "    <tr>\n",
       "      <th>117</th>\n",
       "      <td>15</td>\n",
       "      <td>7</td>\n",
       "      <td>7.0</td>\n",
       "      <td>2</td>\n",
       "      <td>1</td>\n",
       "      <td>1</td>\n",
       "      <td>1</td>\n",
       "      <td>3</td>\n",
       "      <td>1</td>\n",
       "      <td>0</td>\n",
       "      <td>0</td>\n",
       "    </tr>\n",
       "  </tbody>\n",
       "</table>\n",
       "</div>"
      ],
      "text/plain": [
       "     hour  minute  CauseType  PEALv  Weather  day  month  Date  EquipWork_B  \\\n",
       "28      7      15        5.0      1        2    1      1     3            0   \n",
       "51      9      30        5.0      1        1    1      1     3            0   \n",
       "53      9      35        7.0      1        1    1      1     3            0   \n",
       "59     10       0        5.0      1        1    1      1     3            0   \n",
       "117    15       7        7.0      2        1    1      1     3            1   \n",
       "\n",
       "     EquipWork_F  EquipWork_R  \n",
       "28             1            0  \n",
       "51             1            0  \n",
       "53             1            0  \n",
       "59             1            0  \n",
       "117            0            0  "
      ]
     },
     "execution_count": 8,
     "metadata": {},
     "output_type": "execute_result"
    }
   ],
   "source": [
    "df.head()"
   ]
  },
  {
   "cell_type": "code",
   "execution_count": 9,
   "metadata": {},
   "outputs": [],
   "source": [
    "X = df.drop(['CauseType'], axis=1).values #.values คือการเปลี่ยน df เป็น array เรากำลังทำไปเพื่อสร้าง model\n",
    "y= df['CauseType'].values"
   ]
  },
  {
   "cell_type": "code",
   "execution_count": 10,
   "metadata": {},
   "outputs": [],
   "source": [
    "y_label = df[\"CauseType\"].values"
   ]
  },
  {
   "cell_type": "code",
   "execution_count": 11,
   "metadata": {},
   "outputs": [],
   "source": [
    "from sklearn.model_selection import train_test_split"
   ]
  },
  {
   "cell_type": "code",
   "execution_count": 12,
   "metadata": {},
   "outputs": [],
   "source": [
    "X_train,X_test,y_train,y_test = train_test_split(X,y,test_size = 0.3, random_state =2019)"
   ]
  },
  {
   "cell_type": "code",
   "execution_count": 13,
   "metadata": {},
   "outputs": [
    {
     "data": {
      "text/plain": [
       "((22311, 10), (9562, 10), (22311,), (9562,))"
      ]
     },
     "execution_count": 13,
     "metadata": {},
     "output_type": "execute_result"
    }
   ],
   "source": [
    "X_train.shape, X_test.shape, y_train.shape, y_test.shape"
   ]
  },
  {
   "cell_type": "code",
   "execution_count": 14,
   "metadata": {},
   "outputs": [],
   "source": [
    "from sklearn.ensemble import RandomForestClassifier"
   ]
  },
  {
   "cell_type": "code",
   "execution_count": 15,
   "metadata": {},
   "outputs": [],
   "source": [
    "clf_rfc = RandomForestClassifier() #clf = classifaication, rfc = RandomForestClassifier"
   ]
  },
  {
   "cell_type": "code",
   "execution_count": 16,
   "metadata": {},
   "outputs": [
    {
     "name": "stdout",
     "output_type": "stream",
     "text": [
      "CPU times: user 1.8 s, sys: 56.1 ms, total: 1.86 s\n",
      "Wall time: 1.86 s\n"
     ]
    },
    {
     "data": {
      "text/plain": [
       "RandomForestClassifier()"
      ]
     },
     "execution_count": 16,
     "metadata": {},
     "output_type": "execute_result"
    }
   ],
   "source": [
    "%%time\n",
    "clf_rfc.fit(X_train, y_train)"
   ]
  },
  {
   "cell_type": "code",
   "execution_count": 17,
   "metadata": {},
   "outputs": [
    {
     "data": {
      "text/plain": [
       "array([5., 8., 8., 8., 5.])"
      ]
     },
     "execution_count": 17,
     "metadata": {},
     "output_type": "execute_result"
    }
   ],
   "source": [
    "y_pred = clf_rfc.predict(X_test)\n",
    "y_pred[:5]"
   ]
  },
  {
   "cell_type": "code",
   "execution_count": 18,
   "metadata": {},
   "outputs": [
    {
     "data": {
      "text/plain": [
       "array([5., 2., 5., 8., 5.])"
      ]
     },
     "execution_count": 18,
     "metadata": {},
     "output_type": "execute_result"
    }
   ],
   "source": [
    "y_test[:5]"
   ]
  },
  {
   "cell_type": "code",
   "execution_count": 19,
   "metadata": {},
   "outputs": [],
   "source": [
    "from sklearn.metrics import confusion_matrix,precision_recall_fscore_support"
   ]
  },
  {
   "cell_type": "code",
   "execution_count": 20,
   "metadata": {},
   "outputs": [
    {
     "data": {
      "text/plain": [
       "{1.0, 2.0, 5.0, 7.0, 8.0, 9.0}"
      ]
     },
     "execution_count": 20,
     "metadata": {},
     "output_type": "execute_result"
    }
   ],
   "source": [
    "set (y_label) #ดูว่า y ที่จะทำนายมีกี่ class"
   ]
  },
  {
   "cell_type": "code",
   "execution_count": 21,
   "metadata": {},
   "outputs": [
    {
     "data": {
      "text/plain": [
       "['1.0', '2.0', '5.0', '7.0', '8.0', '9.0']"
      ]
     },
     "execution_count": 21,
     "metadata": {},
     "output_type": "execute_result"
    }
   ],
   "source": [
    "class_names = list(set(y_label))\n",
    "class_names = [str(x) for x in class_names]\n",
    "class_names "
   ]
  },
  {
   "cell_type": "code",
   "execution_count": 22,
   "metadata": {},
   "outputs": [
    {
     "data": {
      "text/html": [
       "<style  type=\"text/css\" >\n",
       "    #T_9802dfca_e6b5_11ea_bf3d_acde48001122row0_col0 {\n",
       "            background-color:  #023858;\n",
       "            color:  #f1f1f1;\n",
       "        }    #T_9802dfca_e6b5_11ea_bf3d_acde48001122row0_col1 {\n",
       "            background-color:  #e8e4f0;\n",
       "            color:  #000000;\n",
       "        }    #T_9802dfca_e6b5_11ea_bf3d_acde48001122row0_col2 {\n",
       "            background-color:  #f3edf5;\n",
       "            color:  #000000;\n",
       "        }    #T_9802dfca_e6b5_11ea_bf3d_acde48001122row0_col3 {\n",
       "            background-color:  #023858;\n",
       "            color:  #f1f1f1;\n",
       "        }    #T_9802dfca_e6b5_11ea_bf3d_acde48001122row0_col4 {\n",
       "            background-color:  #f1ebf4;\n",
       "            color:  #000000;\n",
       "        }    #T_9802dfca_e6b5_11ea_bf3d_acde48001122row0_col5 {\n",
       "            background-color:  #6fa7ce;\n",
       "            color:  #000000;\n",
       "        }    #T_9802dfca_e6b5_11ea_bf3d_acde48001122row1_col0 {\n",
       "            background-color:  #c6cce3;\n",
       "            color:  #000000;\n",
       "        }    #T_9802dfca_e6b5_11ea_bf3d_acde48001122row1_col1 {\n",
       "            background-color:  #023858;\n",
       "            color:  #f1f1f1;\n",
       "        }    #T_9802dfca_e6b5_11ea_bf3d_acde48001122row1_col2 {\n",
       "            background-color:  #e7e3f0;\n",
       "            color:  #000000;\n",
       "        }    #T_9802dfca_e6b5_11ea_bf3d_acde48001122row1_col3 {\n",
       "            background-color:  #2685bb;\n",
       "            color:  #000000;\n",
       "        }    #T_9802dfca_e6b5_11ea_bf3d_acde48001122row1_col4 {\n",
       "            background-color:  #eee9f3;\n",
       "            color:  #000000;\n",
       "        }    #T_9802dfca_e6b5_11ea_bf3d_acde48001122row1_col5 {\n",
       "            background-color:  #cacee5;\n",
       "            color:  #000000;\n",
       "        }    #T_9802dfca_e6b5_11ea_bf3d_acde48001122row2_col0 {\n",
       "            background-color:  #d7d6e9;\n",
       "            color:  #000000;\n",
       "        }    #T_9802dfca_e6b5_11ea_bf3d_acde48001122row2_col1 {\n",
       "            background-color:  #b7c5df;\n",
       "            color:  #000000;\n",
       "        }    #T_9802dfca_e6b5_11ea_bf3d_acde48001122row2_col2 {\n",
       "            background-color:  #023858;\n",
       "            color:  #f1f1f1;\n",
       "        }    #T_9802dfca_e6b5_11ea_bf3d_acde48001122row2_col3 {\n",
       "            background-color:  #fff7fb;\n",
       "            color:  #000000;\n",
       "        }    #T_9802dfca_e6b5_11ea_bf3d_acde48001122row2_col4 {\n",
       "            background-color:  #eee9f3;\n",
       "            color:  #000000;\n",
       "        }    #T_9802dfca_e6b5_11ea_bf3d_acde48001122row2_col5 {\n",
       "            background-color:  #e7e3f0;\n",
       "            color:  #000000;\n",
       "        }    #T_9802dfca_e6b5_11ea_bf3d_acde48001122row3_col0 {\n",
       "            background-color:  #fff7fb;\n",
       "            color:  #000000;\n",
       "        }    #T_9802dfca_e6b5_11ea_bf3d_acde48001122row3_col1 {\n",
       "            background-color:  #fff7fb;\n",
       "            color:  #000000;\n",
       "        }    #T_9802dfca_e6b5_11ea_bf3d_acde48001122row3_col2 {\n",
       "            background-color:  #fff7fb;\n",
       "            color:  #000000;\n",
       "        }    #T_9802dfca_e6b5_11ea_bf3d_acde48001122row3_col3 {\n",
       "            background-color:  #73a9cf;\n",
       "            color:  #000000;\n",
       "        }    #T_9802dfca_e6b5_11ea_bf3d_acde48001122row3_col4 {\n",
       "            background-color:  #fff7fb;\n",
       "            color:  #000000;\n",
       "        }    #T_9802dfca_e6b5_11ea_bf3d_acde48001122row3_col5 {\n",
       "            background-color:  #fff7fb;\n",
       "            color:  #000000;\n",
       "        }    #T_9802dfca_e6b5_11ea_bf3d_acde48001122row4_col0 {\n",
       "            background-color:  #ede7f2;\n",
       "            color:  #000000;\n",
       "        }    #T_9802dfca_e6b5_11ea_bf3d_acde48001122row4_col1 {\n",
       "            background-color:  #f9f2f8;\n",
       "            color:  #000000;\n",
       "        }    #T_9802dfca_e6b5_11ea_bf3d_acde48001122row4_col2 {\n",
       "            background-color:  #fef6fa;\n",
       "            color:  #000000;\n",
       "        }    #T_9802dfca_e6b5_11ea_bf3d_acde48001122row4_col3 {\n",
       "            background-color:  #fff7fb;\n",
       "            color:  #000000;\n",
       "        }    #T_9802dfca_e6b5_11ea_bf3d_acde48001122row4_col4 {\n",
       "            background-color:  #023858;\n",
       "            color:  #f1f1f1;\n",
       "        }    #T_9802dfca_e6b5_11ea_bf3d_acde48001122row4_col5 {\n",
       "            background-color:  #86b0d3;\n",
       "            color:  #000000;\n",
       "        }    #T_9802dfca_e6b5_11ea_bf3d_acde48001122row5_col0 {\n",
       "            background-color:  #d9d8ea;\n",
       "            color:  #000000;\n",
       "        }    #T_9802dfca_e6b5_11ea_bf3d_acde48001122row5_col1 {\n",
       "            background-color:  #faf3f9;\n",
       "            color:  #000000;\n",
       "        }    #T_9802dfca_e6b5_11ea_bf3d_acde48001122row5_col2 {\n",
       "            background-color:  #fff7fb;\n",
       "            color:  #000000;\n",
       "        }    #T_9802dfca_e6b5_11ea_bf3d_acde48001122row5_col3 {\n",
       "            background-color:  #e3e0ee;\n",
       "            color:  #000000;\n",
       "        }    #T_9802dfca_e6b5_11ea_bf3d_acde48001122row5_col4 {\n",
       "            background-color:  #e4e1ef;\n",
       "            color:  #000000;\n",
       "        }    #T_9802dfca_e6b5_11ea_bf3d_acde48001122row5_col5 {\n",
       "            background-color:  #023858;\n",
       "            color:  #f1f1f1;\n",
       "        }</style><table id=\"T_9802dfca_e6b5_11ea_bf3d_acde48001122\" ><thead>    <tr>        <th class=\"blank level0\" ></th>        <th class=\"col_heading level0 col0\" >1.0</th>        <th class=\"col_heading level0 col1\" >2.0</th>        <th class=\"col_heading level0 col2\" >5.0</th>        <th class=\"col_heading level0 col3\" >7.0</th>        <th class=\"col_heading level0 col4\" >8.0</th>        <th class=\"col_heading level0 col5\" >9.0</th>    </tr></thead><tbody>\n",
       "                <tr>\n",
       "                        <th id=\"T_9802dfca_e6b5_11ea_bf3d_acde48001122level0_row0\" class=\"row_heading level0 row0\" >1.0</th>\n",
       "                        <td id=\"T_9802dfca_e6b5_11ea_bf3d_acde48001122row0_col0\" class=\"data row0 col0\" >530</td>\n",
       "                        <td id=\"T_9802dfca_e6b5_11ea_bf3d_acde48001122row0_col1\" class=\"data row0 col1\" >156</td>\n",
       "                        <td id=\"T_9802dfca_e6b5_11ea_bf3d_acde48001122row0_col2\" class=\"data row0 col2\" >338</td>\n",
       "                        <td id=\"T_9802dfca_e6b5_11ea_bf3d_acde48001122row0_col3\" class=\"data row0 col3\" >6</td>\n",
       "                        <td id=\"T_9802dfca_e6b5_11ea_bf3d_acde48001122row0_col4\" class=\"data row0 col4\" >104</td>\n",
       "                        <td id=\"T_9802dfca_e6b5_11ea_bf3d_acde48001122row0_col5\" class=\"data row0 col5\" >91</td>\n",
       "            </tr>\n",
       "            <tr>\n",
       "                        <th id=\"T_9802dfca_e6b5_11ea_bf3d_acde48001122level0_row1\" class=\"row_heading level0 row1\" >2.0</th>\n",
       "                        <td id=\"T_9802dfca_e6b5_11ea_bf3d_acde48001122row1_col0\" class=\"data row1 col0\" >163</td>\n",
       "                        <td id=\"T_9802dfca_e6b5_11ea_bf3d_acde48001122row1_col1\" class=\"data row1 col1\" >1002</td>\n",
       "                        <td id=\"T_9802dfca_e6b5_11ea_bf3d_acde48001122row1_col2\" class=\"data row1 col2\" >598</td>\n",
       "                        <td id=\"T_9802dfca_e6b5_11ea_bf3d_acde48001122row1_col3\" class=\"data row1 col3\" >4</td>\n",
       "                        <td id=\"T_9802dfca_e6b5_11ea_bf3d_acde48001122row1_col4\" class=\"data row1 col4\" >122</td>\n",
       "                        <td id=\"T_9802dfca_e6b5_11ea_bf3d_acde48001122row1_col5\" class=\"data row1 col5\" >51</td>\n",
       "            </tr>\n",
       "            <tr>\n",
       "                        <th id=\"T_9802dfca_e6b5_11ea_bf3d_acde48001122level0_row2\" class=\"row_heading level0 row2\" >5.0</th>\n",
       "                        <td id=\"T_9802dfca_e6b5_11ea_bf3d_acde48001122row2_col0\" class=\"data row2 col0\" >135</td>\n",
       "                        <td id=\"T_9802dfca_e6b5_11ea_bf3d_acde48001122row2_col1\" class=\"data row2 col1\" >338</td>\n",
       "                        <td id=\"T_9802dfca_e6b5_11ea_bf3d_acde48001122row2_col2\" class=\"data row2 col2\" >3783</td>\n",
       "                        <td id=\"T_9802dfca_e6b5_11ea_bf3d_acde48001122row2_col3\" class=\"data row2 col3\" >0</td>\n",
       "                        <td id=\"T_9802dfca_e6b5_11ea_bf3d_acde48001122row2_col4\" class=\"data row2 col4\" >120</td>\n",
       "                        <td id=\"T_9802dfca_e6b5_11ea_bf3d_acde48001122row2_col5\" class=\"data row2 col5\" >31</td>\n",
       "            </tr>\n",
       "            <tr>\n",
       "                        <th id=\"T_9802dfca_e6b5_11ea_bf3d_acde48001122level0_row3\" class=\"row_heading level0 row3\" >7.0</th>\n",
       "                        <td id=\"T_9802dfca_e6b5_11ea_bf3d_acde48001122row3_col0\" class=\"data row3 col0\" >22</td>\n",
       "                        <td id=\"T_9802dfca_e6b5_11ea_bf3d_acde48001122row3_col1\" class=\"data row3 col1\" >15</td>\n",
       "                        <td id=\"T_9802dfca_e6b5_11ea_bf3d_acde48001122row3_col2\" class=\"data row3 col2\" >33</td>\n",
       "                        <td id=\"T_9802dfca_e6b5_11ea_bf3d_acde48001122row3_col3\" class=\"data row3 col3\" >3</td>\n",
       "                        <td id=\"T_9802dfca_e6b5_11ea_bf3d_acde48001122row3_col4\" class=\"data row3 col4\" >6</td>\n",
       "                        <td id=\"T_9802dfca_e6b5_11ea_bf3d_acde48001122row3_col5\" class=\"data row3 col5\" >7</td>\n",
       "            </tr>\n",
       "            <tr>\n",
       "                        <th id=\"T_9802dfca_e6b5_11ea_bf3d_acde48001122level0_row4\" class=\"row_heading level0 row4\" >8.0</th>\n",
       "                        <td id=\"T_9802dfca_e6b5_11ea_bf3d_acde48001122row4_col0\" class=\"data row4 col0\" >84</td>\n",
       "                        <td id=\"T_9802dfca_e6b5_11ea_bf3d_acde48001122row4_col1\" class=\"data row4 col1\" >56</td>\n",
       "                        <td id=\"T_9802dfca_e6b5_11ea_bf3d_acde48001122row4_col2\" class=\"data row4 col2\" >76</td>\n",
       "                        <td id=\"T_9802dfca_e6b5_11ea_bf3d_acde48001122row4_col3\" class=\"data row4 col3\" >0</td>\n",
       "                        <td id=\"T_9802dfca_e6b5_11ea_bf3d_acde48001122row4_col4\" class=\"data row4 col4\" >1046</td>\n",
       "                        <td id=\"T_9802dfca_e6b5_11ea_bf3d_acde48001122row4_col5\" class=\"data row4 col5\" >82</td>\n",
       "            </tr>\n",
       "            <tr>\n",
       "                        <th id=\"T_9802dfca_e6b5_11ea_bf3d_acde48001122level0_row5\" class=\"row_heading level0 row5\" >9.0</th>\n",
       "                        <td id=\"T_9802dfca_e6b5_11ea_bf3d_acde48001122row5_col0\" class=\"data row5 col0\" >128</td>\n",
       "                        <td id=\"T_9802dfca_e6b5_11ea_bf3d_acde48001122row5_col1\" class=\"data row5 col1\" >48</td>\n",
       "                        <td id=\"T_9802dfca_e6b5_11ea_bf3d_acde48001122row5_col2\" class=\"data row5 col2\" >35</td>\n",
       "                        <td id=\"T_9802dfca_e6b5_11ea_bf3d_acde48001122row5_col3\" class=\"data row5 col3\" >1</td>\n",
       "                        <td id=\"T_9802dfca_e6b5_11ea_bf3d_acde48001122row5_col4\" class=\"data row5 col4\" >176</td>\n",
       "                        <td id=\"T_9802dfca_e6b5_11ea_bf3d_acde48001122row5_col5\" class=\"data row5 col5\" >172</td>\n",
       "            </tr>\n",
       "    </tbody></table>"
      ],
      "text/plain": [
       "<pandas.io.formats.style.Styler at 0x7fb8258dcb10>"
      ]
     },
     "execution_count": 22,
     "metadata": {},
     "output_type": "execute_result"
    }
   ],
   "source": [
    "cm = confusion_matrix(y_test, y_pred)\n",
    "df_cm = pd.DataFrame(data=cm, columns=class_names, index=class_names)\n",
    "df_cm.style.background_gradient()"
   ]
  },
  {
   "cell_type": "code",
   "execution_count": 23,
   "metadata": {},
   "outputs": [],
   "source": [
    "from sklearn.metrics import classification_report"
   ]
  },
  {
   "cell_type": "code",
   "execution_count": 24,
   "metadata": {},
   "outputs": [],
   "source": [
    "predictions = clf_rfc.predict(X_test)"
   ]
  },
  {
   "cell_type": "code",
   "execution_count": 25,
   "metadata": {},
   "outputs": [
    {
     "name": "stdout",
     "output_type": "stream",
     "text": [
      "              precision    recall  f1-score   support\n",
      "\n",
      "         1.0       0.50      0.43      0.46      1225\n",
      "         2.0       0.62      0.52      0.56      1940\n",
      "         5.0       0.78      0.86      0.82      4407\n",
      "         7.0       0.21      0.03      0.06        86\n",
      "         8.0       0.66      0.78      0.72      1344\n",
      "         9.0       0.40      0.31      0.35       560\n",
      "\n",
      "    accuracy                           0.68      9562\n",
      "   macro avg       0.53      0.49      0.49      9562\n",
      "weighted avg       0.67      0.68      0.67      9562\n",
      "\n"
     ]
    }
   ],
   "source": [
    "print(classification_report(y_test,predictions))"
   ]
  },
  {
   "cell_type": "code",
   "execution_count": 26,
   "metadata": {},
   "outputs": [],
   "source": [
    "pre, rec, f1, _ = precision_recall_fscore_support(y_test,y_pred)"
   ]
  },
  {
   "cell_type": "code",
   "execution_count": 27,
   "metadata": {},
   "outputs": [
    {
     "name": "stdout",
     "output_type": "stream",
     "text": [
      "CauseType 1.0: precision: 49.906  rec: 43.265  f1: 46.349\n",
      "CauseType 2.0: precision: 62.043  rec: 51.649  f1: 56.371\n",
      "CauseType 5.0: precision: 77.791  rec: 85.841  f1: 81.618\n",
      "CauseType 7.0: precision: 21.429  rec: 3.488  f1: 6.000\n",
      "CauseType 8.0: precision: 66.455  rec: 77.827  f1: 71.693\n",
      "CauseType 9.0: precision: 39.631  rec: 30.714  f1: 34.608\n"
     ]
    }
   ],
   "source": [
    "for idx, c_name in enumerate(class_names): \n",
    "    print(\"CauseType {}: precision: {:.3f}  rec: {:.3f}  f1: {:.3f}\".format(c_name,\n",
    "                                                   pre[idx]*100,\n",
    "                                                   rec[idx]*100,\n",
    "                                                   f1[idx]*100))"
   ]
  },
  {
   "cell_type": "code",
   "execution_count": 28,
   "metadata": {},
   "outputs": [
    {
     "data": {
      "text/plain": [
       "['hour',\n",
       " 'minute',\n",
       " 'CauseType',\n",
       " 'PEALv',\n",
       " 'Weather',\n",
       " 'day',\n",
       " 'month',\n",
       " 'Date',\n",
       " 'EquipWork_B',\n",
       " 'EquipWork_F',\n",
       " 'EquipWork_R']"
      ]
     },
     "execution_count": 28,
     "metadata": {},
     "output_type": "execute_result"
    }
   ],
   "source": [
    "col_feature = list(df.columns)\n",
    "df[col_feature] = \\\n",
    "    df[col_feature].astype(\"float\")\n",
    "col_feature"
   ]
  },
  {
   "cell_type": "code",
   "execution_count": 29,
   "metadata": {},
   "outputs": [],
   "source": [
    "col_feature = [x for x in col_feature if x != 'CauseType']"
   ]
  },
  {
   "cell_type": "code",
   "execution_count": 30,
   "metadata": {},
   "outputs": [],
   "source": [
    "fi_ls = clf_rfc.feature_importances_"
   ]
  },
  {
   "cell_type": "code",
   "execution_count": 31,
   "metadata": {},
   "outputs": [
    {
     "data": {
      "text/plain": [
       "(10, 10)"
      ]
     },
     "execution_count": 31,
     "metadata": {},
     "output_type": "execute_result"
    }
   ],
   "source": [
    "len(fi_ls), len(col_feature)"
   ]
  },
  {
   "cell_type": "code",
   "execution_count": 32,
   "metadata": {},
   "outputs": [],
   "source": [
    "df_fi = pd.DataFrame(data=fi_ls, index=col_feature) \\\n",
    "    .rename(columns={0:\"feature_importance\"})\n",
    "df_fi = df_fi.sort_values(by=\"feature_importance\",\n",
    "                         ascending=False)"
   ]
  },
  {
   "cell_type": "code",
   "execution_count": 33,
   "metadata": {},
   "outputs": [
    {
     "data": {
      "text/html": [
       "<style  type=\"text/css\" >\n",
       "    #T_98398e6c_e6b5_11ea_bf3d_acde48001122row0_col0 {\n",
       "            width:  10em;\n",
       "             height:  80%;\n",
       "            background:  linear-gradient(90deg,#d65f5f 100.0%, transparent 100.0%);\n",
       "        }    #T_98398e6c_e6b5_11ea_bf3d_acde48001122row1_col0 {\n",
       "            width:  10em;\n",
       "             height:  80%;\n",
       "            background:  linear-gradient(90deg,#d65f5f 71.3%, transparent 71.3%);\n",
       "        }    #T_98398e6c_e6b5_11ea_bf3d_acde48001122row2_col0 {\n",
       "            width:  10em;\n",
       "             height:  80%;\n",
       "            background:  linear-gradient(90deg,#d65f5f 56.2%, transparent 56.2%);\n",
       "        }    #T_98398e6c_e6b5_11ea_bf3d_acde48001122row3_col0 {\n",
       "            width:  10em;\n",
       "             height:  80%;\n",
       "            background:  linear-gradient(90deg,#d65f5f 50.5%, transparent 50.5%);\n",
       "        }    #T_98398e6c_e6b5_11ea_bf3d_acde48001122row4_col0 {\n",
       "            width:  10em;\n",
       "             height:  80%;\n",
       "            background:  linear-gradient(90deg,#d65f5f 47.1%, transparent 47.1%);\n",
       "        }    #T_98398e6c_e6b5_11ea_bf3d_acde48001122row5_col0 {\n",
       "            width:  10em;\n",
       "             height:  80%;\n",
       "            background:  linear-gradient(90deg,#d65f5f 38.4%, transparent 38.4%);\n",
       "        }    #T_98398e6c_e6b5_11ea_bf3d_acde48001122row6_col0 {\n",
       "            width:  10em;\n",
       "             height:  80%;\n",
       "            background:  linear-gradient(90deg,#d65f5f 17.7%, transparent 17.7%);\n",
       "        }    #T_98398e6c_e6b5_11ea_bf3d_acde48001122row7_col0 {\n",
       "            width:  10em;\n",
       "             height:  80%;\n",
       "            background:  linear-gradient(90deg,#d65f5f 16.0%, transparent 16.0%);\n",
       "        }    #T_98398e6c_e6b5_11ea_bf3d_acde48001122row8_col0 {\n",
       "            width:  10em;\n",
       "             height:  80%;\n",
       "            background:  linear-gradient(90deg,#d65f5f 6.1%, transparent 6.1%);\n",
       "        }    #T_98398e6c_e6b5_11ea_bf3d_acde48001122row9_col0 {\n",
       "            width:  10em;\n",
       "             height:  80%;\n",
       "        }</style><table id=\"T_98398e6c_e6b5_11ea_bf3d_acde48001122\" ><thead>    <tr>        <th class=\"blank level0\" ></th>        <th class=\"col_heading level0 col0\" >feature_importance</th>    </tr></thead><tbody>\n",
       "                <tr>\n",
       "                        <th id=\"T_98398e6c_e6b5_11ea_bf3d_acde48001122level0_row0\" class=\"row_heading level0 row0\" >Weather</th>\n",
       "                        <td id=\"T_98398e6c_e6b5_11ea_bf3d_acde48001122row0_col0\" class=\"data row0 col0\" >0.245962</td>\n",
       "            </tr>\n",
       "            <tr>\n",
       "                        <th id=\"T_98398e6c_e6b5_11ea_bf3d_acde48001122level0_row1\" class=\"row_heading level0 row1\" >day</th>\n",
       "                        <td id=\"T_98398e6c_e6b5_11ea_bf3d_acde48001122row1_col0\" class=\"data row1 col0\" >0.175703</td>\n",
       "            </tr>\n",
       "            <tr>\n",
       "                        <th id=\"T_98398e6c_e6b5_11ea_bf3d_acde48001122level0_row2\" class=\"row_heading level0 row2\" >hour</th>\n",
       "                        <td id=\"T_98398e6c_e6b5_11ea_bf3d_acde48001122row2_col0\" class=\"data row2 col0\" >0.138721</td>\n",
       "            </tr>\n",
       "            <tr>\n",
       "                        <th id=\"T_98398e6c_e6b5_11ea_bf3d_acde48001122level0_row3\" class=\"row_heading level0 row3\" >minute</th>\n",
       "                        <td id=\"T_98398e6c_e6b5_11ea_bf3d_acde48001122row3_col0\" class=\"data row3 col0\" >0.124867</td>\n",
       "            </tr>\n",
       "            <tr>\n",
       "                        <th id=\"T_98398e6c_e6b5_11ea_bf3d_acde48001122level0_row4\" class=\"row_heading level0 row4\" >month</th>\n",
       "                        <td id=\"T_98398e6c_e6b5_11ea_bf3d_acde48001122row4_col0\" class=\"data row4 col0\" >0.116619</td>\n",
       "            </tr>\n",
       "            <tr>\n",
       "                        <th id=\"T_98398e6c_e6b5_11ea_bf3d_acde48001122level0_row5\" class=\"row_heading level0 row5\" >Date</th>\n",
       "                        <td id=\"T_98398e6c_e6b5_11ea_bf3d_acde48001122row5_col0\" class=\"data row5 col0\" >0.0952372</td>\n",
       "            </tr>\n",
       "            <tr>\n",
       "                        <th id=\"T_98398e6c_e6b5_11ea_bf3d_acde48001122level0_row6\" class=\"row_heading level0 row6\" >EquipWork_F</th>\n",
       "                        <td id=\"T_98398e6c_e6b5_11ea_bf3d_acde48001122row6_col0\" class=\"data row6 col0\" >0.0445991</td>\n",
       "            </tr>\n",
       "            <tr>\n",
       "                        <th id=\"T_98398e6c_e6b5_11ea_bf3d_acde48001122level0_row7\" class=\"row_heading level0 row7\" >EquipWork_B</th>\n",
       "                        <td id=\"T_98398e6c_e6b5_11ea_bf3d_acde48001122row7_col0\" class=\"data row7 col0\" >0.0405875</td>\n",
       "            </tr>\n",
       "            <tr>\n",
       "                        <th id=\"T_98398e6c_e6b5_11ea_bf3d_acde48001122level0_row8\" class=\"row_heading level0 row8\" >PEALv</th>\n",
       "                        <td id=\"T_98398e6c_e6b5_11ea_bf3d_acde48001122row8_col0\" class=\"data row8 col0\" >0.016331</td>\n",
       "            </tr>\n",
       "            <tr>\n",
       "                        <th id=\"T_98398e6c_e6b5_11ea_bf3d_acde48001122level0_row9\" class=\"row_heading level0 row9\" >EquipWork_R</th>\n",
       "                        <td id=\"T_98398e6c_e6b5_11ea_bf3d_acde48001122row9_col0\" class=\"data row9 col0\" >0.00137289</td>\n",
       "            </tr>\n",
       "    </tbody></table>"
      ],
      "text/plain": [
       "<pandas.io.formats.style.Styler at 0x7fb81ab2d6d0>"
      ]
     },
     "execution_count": 33,
     "metadata": {},
     "output_type": "execute_result"
    }
   ],
   "source": [
    "df_fi[:10].style.bar()"
   ]
  },
  {
   "cell_type": "code",
   "execution_count": 42,
   "metadata": {},
   "outputs": [],
   "source": [
    "import csv\n",
    "y_prop = clf_rfc.predict_proba(X_test)\n",
    "zippedList =  list(zip(y_test, y_pred))\n",
    "result = pd.DataFrame(zippedList, columns = ['สาเหตุจริง', 'สาเหตุพยากรณ์'])\n",
    "prop = pd.DataFrame(y_prop, columns = ['ต้นไม้','อุปกรณ์','สัตว์','วัสดุแปลกปลอม','สภาพแวดล้อม','ภัยธรรมชาติ'])\n",
    "prop = prop.round(decimals = 2)\n",
    "prop['Max_Prop'] = prop.max(axis=1)\n",
    "input_predict = pd.DataFrame(X_test, columns = col_feature)\n",
    "predict_result = pd.concat([input_predict,result,prop],axis=1) \n",
    "predict_result.to_csv('probs_Xtest_C1.csv',encoding='utf-8',quoting=csv.QUOTE_NONE,index = False)"
   ]
  },
  {
   "cell_type": "code",
   "execution_count": 43,
   "metadata": {},
   "outputs": [
    {
     "data": {
      "text/html": [
       "<div>\n",
       "<style scoped>\n",
       "    .dataframe tbody tr th:only-of-type {\n",
       "        vertical-align: middle;\n",
       "    }\n",
       "\n",
       "    .dataframe tbody tr th {\n",
       "        vertical-align: top;\n",
       "    }\n",
       "\n",
       "    .dataframe thead th {\n",
       "        text-align: right;\n",
       "    }\n",
       "</style>\n",
       "<table border=\"1\" class=\"dataframe\">\n",
       "  <thead>\n",
       "    <tr style=\"text-align: right;\">\n",
       "      <th></th>\n",
       "      <th>hour</th>\n",
       "      <th>minute</th>\n",
       "      <th>PEALv</th>\n",
       "      <th>Weather</th>\n",
       "      <th>day</th>\n",
       "      <th>month</th>\n",
       "      <th>Date</th>\n",
       "      <th>EquipWork_B</th>\n",
       "      <th>EquipWork_F</th>\n",
       "      <th>EquipWork_R</th>\n",
       "      <th>สาเหตุจริง</th>\n",
       "      <th>สาเหตุพยากรณ์</th>\n",
       "      <th>ต้นไม้</th>\n",
       "      <th>อุปกรณ์</th>\n",
       "      <th>สัตว์</th>\n",
       "      <th>วัสดุแปลกปลอม</th>\n",
       "      <th>สภาพแวดล้อม</th>\n",
       "      <th>ภัยธรรมชาติ</th>\n",
       "      <th>Max_Prop</th>\n",
       "    </tr>\n",
       "  </thead>\n",
       "  <tbody>\n",
       "    <tr>\n",
       "      <th>0</th>\n",
       "      <td>5</td>\n",
       "      <td>40</td>\n",
       "      <td>1</td>\n",
       "      <td>1</td>\n",
       "      <td>26</td>\n",
       "      <td>8</td>\n",
       "      <td>3</td>\n",
       "      <td>0</td>\n",
       "      <td>1</td>\n",
       "      <td>0</td>\n",
       "      <td>5.0</td>\n",
       "      <td>5.0</td>\n",
       "      <td>0.09</td>\n",
       "      <td>0.06</td>\n",
       "      <td>0.85</td>\n",
       "      <td>0.0</td>\n",
       "      <td>0.00</td>\n",
       "      <td>0.00</td>\n",
       "      <td>0.85</td>\n",
       "    </tr>\n",
       "    <tr>\n",
       "      <th>1</th>\n",
       "      <td>16</td>\n",
       "      <td>24</td>\n",
       "      <td>2</td>\n",
       "      <td>6</td>\n",
       "      <td>17</td>\n",
       "      <td>5</td>\n",
       "      <td>7</td>\n",
       "      <td>0</td>\n",
       "      <td>1</td>\n",
       "      <td>0</td>\n",
       "      <td>2.0</td>\n",
       "      <td>8.0</td>\n",
       "      <td>0.04</td>\n",
       "      <td>0.00</td>\n",
       "      <td>0.18</td>\n",
       "      <td>0.0</td>\n",
       "      <td>0.59</td>\n",
       "      <td>0.19</td>\n",
       "      <td>0.59</td>\n",
       "    </tr>\n",
       "    <tr>\n",
       "      <th>2</th>\n",
       "      <td>19</td>\n",
       "      <td>0</td>\n",
       "      <td>2</td>\n",
       "      <td>6</td>\n",
       "      <td>20</td>\n",
       "      <td>8</td>\n",
       "      <td>2</td>\n",
       "      <td>0</td>\n",
       "      <td>1</td>\n",
       "      <td>0</td>\n",
       "      <td>5.0</td>\n",
       "      <td>8.0</td>\n",
       "      <td>0.28</td>\n",
       "      <td>0.00</td>\n",
       "      <td>0.07</td>\n",
       "      <td>0.0</td>\n",
       "      <td>0.42</td>\n",
       "      <td>0.23</td>\n",
       "      <td>0.42</td>\n",
       "    </tr>\n",
       "    <tr>\n",
       "      <th>3</th>\n",
       "      <td>19</td>\n",
       "      <td>0</td>\n",
       "      <td>1</td>\n",
       "      <td>6</td>\n",
       "      <td>16</td>\n",
       "      <td>4</td>\n",
       "      <td>3</td>\n",
       "      <td>0</td>\n",
       "      <td>1</td>\n",
       "      <td>0</td>\n",
       "      <td>8.0</td>\n",
       "      <td>8.0</td>\n",
       "      <td>0.00</td>\n",
       "      <td>0.02</td>\n",
       "      <td>0.04</td>\n",
       "      <td>0.0</td>\n",
       "      <td>0.87</td>\n",
       "      <td>0.07</td>\n",
       "      <td>0.87</td>\n",
       "    </tr>\n",
       "    <tr>\n",
       "      <th>4</th>\n",
       "      <td>6</td>\n",
       "      <td>50</td>\n",
       "      <td>1</td>\n",
       "      <td>1</td>\n",
       "      <td>5</td>\n",
       "      <td>7</td>\n",
       "      <td>6</td>\n",
       "      <td>0</td>\n",
       "      <td>1</td>\n",
       "      <td>0</td>\n",
       "      <td>5.0</td>\n",
       "      <td>5.0</td>\n",
       "      <td>0.15</td>\n",
       "      <td>0.05</td>\n",
       "      <td>0.79</td>\n",
       "      <td>0.0</td>\n",
       "      <td>0.00</td>\n",
       "      <td>0.01</td>\n",
       "      <td>0.79</td>\n",
       "    </tr>\n",
       "  </tbody>\n",
       "</table>\n",
       "</div>"
      ],
      "text/plain": [
       "   hour  minute  PEALv  Weather  day  month  Date  EquipWork_B  EquipWork_F  \\\n",
       "0     5      40      1        1   26      8     3            0            1   \n",
       "1    16      24      2        6   17      5     7            0            1   \n",
       "2    19       0      2        6   20      8     2            0            1   \n",
       "3    19       0      1        6   16      4     3            0            1   \n",
       "4     6      50      1        1    5      7     6            0            1   \n",
       "\n",
       "   EquipWork_R  สาเหตุจริง  สาเหตุพยากรณ์  ต้นไม้  อุปกรณ์  สัตว์  \\\n",
       "0            0         5.0            5.0    0.09     0.06   0.85   \n",
       "1            0         2.0            8.0    0.04     0.00   0.18   \n",
       "2            0         5.0            8.0    0.28     0.00   0.07   \n",
       "3            0         8.0            8.0    0.00     0.02   0.04   \n",
       "4            0         5.0            5.0    0.15     0.05   0.79   \n",
       "\n",
       "   วัสดุแปลกปลอม  สภาพแวดล้อม  ภัยธรรมชาติ  Max_Prop  \n",
       "0            0.0         0.00         0.00      0.85  \n",
       "1            0.0         0.59         0.19      0.59  \n",
       "2            0.0         0.42         0.23      0.42  \n",
       "3            0.0         0.87         0.07      0.87  \n",
       "4            0.0         0.00         0.01      0.79  "
      ]
     },
     "execution_count": 43,
     "metadata": {},
     "output_type": "execute_result"
    }
   ],
   "source": [
    "predict_result.head()"
   ]
  },
  {
   "cell_type": "code",
   "execution_count": 128,
   "metadata": {},
   "outputs": [
    {
     "data": {
      "text/plain": [
       "array([[0.12, 0.11, 0.08, 0.01, 0.  , 0.68],\n",
       "       [0.  , 0.83, 0.17, 0.  , 0.  , 0.  ],\n",
       "       [0.82, 0.02, 0.01, 0.  , 0.08, 0.07],\n",
       "       [0.01, 0.93, 0.06, 0.  , 0.  , 0.  ],\n",
       "       [0.13, 0.72, 0.05, 0.01, 0.06, 0.03]])"
      ]
     },
     "execution_count": 128,
     "metadata": {},
     "output_type": "execute_result"
    }
   ],
   "source": [
    "rfc_predict = clf_rfc.predict_proba(X_train)\n",
    "rfc_predict[:5]"
   ]
  },
  {
   "cell_type": "code",
   "execution_count": 129,
   "metadata": {},
   "outputs": [
    {
     "name": "stdout",
     "output_type": "stream",
     "text": [
      "For Random Forest model:\n",
      "Train set accuracy = 0.994262919636054\n",
      "Test set accuracy = 0.6807153315206024\n"
     ]
    }
   ],
   "source": [
    "# Evaluate the model's accuracy\n",
    "print(\"For Random Forest model:\")\n",
    "print(\"Train set accuracy = \" + str(clf_rfc.score(X_train, y_train)))\n",
    "print(\"Test set accuracy = \" + str(clf_rfc.score(X_test, y_test)))"
   ]
  },
  {
   "cell_type": "code",
   "execution_count": 130,
   "metadata": {},
   "outputs": [],
   "source": [
    "import pickle\n",
    "# save the model to disk\n",
    "filename = 'C1_Ratio7Y_RFC1.sav'\n",
    "pickle.dump(clf_rfc, open(filename, 'wb'))"
   ]
  },
  {
   "cell_type": "code",
   "execution_count": null,
   "metadata": {},
   "outputs": [],
   "source": [
    "from sklearn.model_selection import GridSearchCV\n",
    "from sklearn.metrics import make_scorer\n",
    "from sklearn.metrics import f1_score"
   ]
  },
  {
   "cell_type": "code",
   "execution_count": null,
   "metadata": {},
   "outputs": [],
   "source": [
    "rfc = RandomForestClassifier(random_state=2019,n_jobs=-1,max_features= 'sqrt' ,n_estimators=50, oob_score = True)"
   ]
  },
  {
   "cell_type": "code",
   "execution_count": null,
   "metadata": {},
   "outputs": [],
   "source": [
    "param_grid = { \n",
    "    'n_estimators': [200, 700],\n",
    "    'max_features': ['auto', 'sqrt', 'log2'],\n",
    "}"
   ]
  },
  {
   "cell_type": "code",
   "execution_count": null,
   "metadata": {},
   "outputs": [],
   "source": [
    "grid_obj = GridSearchCV(estimator=rfc, param_grid=param_grid, cv= 5)"
   ]
  },
  {
   "cell_type": "code",
   "execution_count": null,
   "metadata": {},
   "outputs": [],
   "source": [
    "grid_fit = grid_obj.fit(X, y)"
   ]
  },
  {
   "cell_type": "code",
   "execution_count": null,
   "metadata": {},
   "outputs": [],
   "source": [
    "best_rfc_clf = grid_fit.best_estimator_"
   ]
  },
  {
   "cell_type": "code",
   "execution_count": null,
   "metadata": {},
   "outputs": [],
   "source": [
    "%%time\n",
    "best_rfc_clf.fit(X_train, y_train)"
   ]
  },
  {
   "cell_type": "code",
   "execution_count": null,
   "metadata": {},
   "outputs": [],
   "source": [
    "y_pred = best_rfc_clf.predict(X_test)"
   ]
  },
  {
   "cell_type": "code",
   "execution_count": null,
   "metadata": {},
   "outputs": [],
   "source": [
    "cm = confusion_matrix(y_test, y_pred)\n",
    "df_cm = pd.DataFrame(data=cm, columns=class_names, index=class_names)\n",
    "df_cm.style.background_gradient()"
   ]
  },
  {
   "cell_type": "code",
   "execution_count": null,
   "metadata": {},
   "outputs": [],
   "source": [
    "best_predictions = best_rfc_clf.predict(X_test)"
   ]
  },
  {
   "cell_type": "code",
   "execution_count": null,
   "metadata": {},
   "outputs": [],
   "source": [
    "print(classification_report(y_test,best_predictions))"
   ]
  },
  {
   "cell_type": "code",
   "execution_count": null,
   "metadata": {},
   "outputs": [],
   "source": [
    "pre, rec, f1, _ = precision_recall_fscore_support(y_test,y_pred)"
   ]
  },
  {
   "cell_type": "code",
   "execution_count": null,
   "metadata": {},
   "outputs": [],
   "source": [
    "for idx, c_name in enumerate(class_names): \n",
    "    print(\"CauseType {}: precision: {:.3f}  rec: {:.3f}  f1: {:.3f}\".format(c_name,\n",
    "                                                   pre[idx]*100,\n",
    "                                                   rec[idx]*100,\n",
    "                                                   f1[idx]*100))"
   ]
  },
  {
   "cell_type": "code",
   "execution_count": null,
   "metadata": {},
   "outputs": [],
   "source": [
    "fi_ls = best_rfc_clf.feature_importances_"
   ]
  },
  {
   "cell_type": "code",
   "execution_count": null,
   "metadata": {},
   "outputs": [],
   "source": [
    "df_fi = pd.DataFrame(data=fi_ls, index=col_feature) \\\n",
    "    .rename(columns={0:\"feature_importance\"})\n",
    "df_fi = df_fi.sort_values(by=\"feature_importance\",\n",
    "                         ascending=False)"
   ]
  },
  {
   "cell_type": "code",
   "execution_count": null,
   "metadata": {},
   "outputs": [],
   "source": [
    "df_fi[:10].style.bar()"
   ]
  },
  {
   "cell_type": "code",
   "execution_count": null,
   "metadata": {},
   "outputs": [],
   "source": [
    "# Evaluate the model's accuracy\n",
    "print(\"For Random Forest model:\")\n",
    "print(\"Train set accuracy = \" + str(best_rfc_clf.score(X_train, y_train)))\n",
    "print(\"Test set accuracy = \" + str(best_rfc_clf.score(X_test, y_test)))"
   ]
  },
  {
   "cell_type": "code",
   "execution_count": null,
   "metadata": {},
   "outputs": [],
   "source": []
  },
  {
   "cell_type": "code",
   "execution_count": null,
   "metadata": {},
   "outputs": [],
   "source": [
    "X= df[['Weather','TotalTime','Ratio','Cus','hour','minute','day','month']].values"
   ]
  },
  {
   "cell_type": "code",
   "execution_count": null,
   "metadata": {},
   "outputs": [],
   "source": [
    "X_train,X_test,y_train,y_test = train_test_split(X,y,test_size = 0.3, random_state =2019)"
   ]
  },
  {
   "cell_type": "code",
   "execution_count": null,
   "metadata": {},
   "outputs": [],
   "source": [
    "grid_obj = GridSearchCV(estimator=rfc, param_grid=param_grid, cv= 5)\n",
    "grid_fit = grid_obj.fit(X, y)\n",
    "best_rfc_clf = grid_fit.best_estimator_"
   ]
  },
  {
   "cell_type": "code",
   "execution_count": null,
   "metadata": {},
   "outputs": [],
   "source": [
    "%%time\n",
    "best_rfc_clf.fit(X, y)"
   ]
  },
  {
   "cell_type": "code",
   "execution_count": null,
   "metadata": {},
   "outputs": [],
   "source": [
    "y_pred = best_rfc_clf.predict(X_test)"
   ]
  },
  {
   "cell_type": "code",
   "execution_count": null,
   "metadata": {},
   "outputs": [],
   "source": [
    "best_predictions = best_rfc_clf.predict(X_test)"
   ]
  },
  {
   "cell_type": "code",
   "execution_count": null,
   "metadata": {},
   "outputs": [],
   "source": [
    "pre, rec, f1, _ = precision_recall_fscore_support(y_test,y_pred)"
   ]
  },
  {
   "cell_type": "code",
   "execution_count": null,
   "metadata": {},
   "outputs": [],
   "source": [
    "df2 = df[['Weather','TotalTime','Ratio','Cus','hour','minute','day','month']]\n",
    "col_feature2 = list(df2.columns)\n",
    "df[col_feature2] = \\\n",
    "    df[col_feature2].astype(\"float\")\n",
    "col_feature2"
   ]
  },
  {
   "cell_type": "code",
   "execution_count": null,
   "metadata": {},
   "outputs": [],
   "source": [
    "fi_ls = best_rfc_clf.feature_importances_\n",
    "df_fi = pd.DataFrame(data=fi_ls, index=col_feature2) \\\n",
    "    .rename(columns={0:\"feature_importance\"})\n",
    "df_fi = df_fi.sort_values(by=\"feature_importance\",\n",
    "                         ascending=False)\n",
    "df_fi[:10].style.bar()"
   ]
  },
  {
   "cell_type": "code",
   "execution_count": null,
   "metadata": {},
   "outputs": [],
   "source": [
    "best_pred_cutting = best_rfc_clf.predict(X_test)"
   ]
  },
  {
   "cell_type": "code",
   "execution_count": null,
   "metadata": {},
   "outputs": [],
   "source": [
    "print(classification_report(y_test,best_pred_cutting))"
   ]
  },
  {
   "cell_type": "code",
   "execution_count": null,
   "metadata": {},
   "outputs": [],
   "source": [
    "y_prop = best_rfc_clf.predict_proba(X_train)"
   ]
  },
  {
   "cell_type": "code",
   "execution_count": null,
   "metadata": {},
   "outputs": [],
   "source": [
    "y_prop = y_prop.reshape((y_prop.shape[0],y_prop.shape[1]))"
   ]
  },
  {
   "cell_type": "code",
   "execution_count": null,
   "metadata": {},
   "outputs": [],
   "source": [
    "y_prop = pd.DataFrame(y_prop, columns = ['5', '1','2','8','9','7'])"
   ]
  },
  {
   "cell_type": "code",
   "execution_count": null,
   "metadata": {},
   "outputs": [],
   "source": [
    "y_prop"
   ]
  },
  {
   "cell_type": "code",
   "execution_count": null,
   "metadata": {},
   "outputs": [],
   "source": [
    "zippedList =  list(zip(y_test, y_pred))"
   ]
  },
  {
   "cell_type": "code",
   "execution_count": null,
   "metadata": {},
   "outputs": [],
   "source": [
    "result = pd.DataFrame(zippedList, columns = ['Cause_before', 'Cause_after'])"
   ]
  },
  {
   "cell_type": "code",
   "execution_count": null,
   "metadata": {},
   "outputs": [],
   "source": [
    "predict_result = pd.concat([result,y_prop],axis=1) \n",
    "predict_result.head()"
   ]
  },
  {
   "cell_type": "code",
   "execution_count": null,
   "metadata": {},
   "outputs": [],
   "source": [
    "import pickle\n",
    "# save the model to disk\n",
    "filename = 'C1_Ratio7Y_RFC.sav'\n",
    "pickle.dump(best_rfc_clf, open(filename, 'wb'))"
   ]
  },
  {
   "cell_type": "markdown",
   "metadata": {},
   "source": [
    "# Sectionnnnnnnn\n"
   ]
  },
  {
   "cell_type": "code",
   "execution_count": null,
   "metadata": {},
   "outputs": [],
   "source": [
    "from sklearn.tree import export_graphviz\n",
    "import pydot\n",
    "export_graphviz(best_rfc_clf.estimators_[0], out_file='tree_from_forest.dot')\n",
    "(graph,) = pydot.graph_from_dot_file('tree_from_forest.dot')\n",
    "graph.write_png('tree_from_forest.png')"
   ]
  },
  {
   "cell_type": "code",
   "execution_count": null,
   "metadata": {},
   "outputs": [],
   "source": [
    "import graphviz\n",
    "with open(\"tree_from_forest.dot\") as f:\n",
    "    dot_graph=f.read()\n",
    "graphviz.Source(dot_graph)"
   ]
  },
  {
   "cell_type": "code",
   "execution_count": null,
   "metadata": {},
   "outputs": [],
   "source": [
    "# graph = pydot.graph_from_dot_data(dot_graph)\n",
    "graph.write_pdf(\"tree_from_forest.pdf\")"
   ]
  },
  {
   "cell_type": "markdown",
   "metadata": {},
   "source": [
    "# Machine Learning Algorithm Performance Metrics"
   ]
  },
  {
   "cell_type": "markdown",
   "metadata": {},
   "source": [
    "# Evaluate the Performance of Machine"
   ]
  },
  {
   "cell_type": "code",
   "execution_count": null,
   "metadata": {},
   "outputs": [],
   "source": [
    "# Evaluate using a train and a test set\n",
    "from sklearn.model_selection import train_test_split\n",
    "test_size = 0.3\n",
    "seed = 2019\n",
    "X_train, X_test, Y_train, Y_test = train_test_split(X,y,test_size=test_size, random_state=seed)\n",
    "model = best_clf\n",
    "model.fit(X_train, Y_train)\n",
    "results = model.score(X_test, Y_test)\n",
    "print(\"Accuracy: %.3f%% (%.3f%%)\" % (results.mean()*100.0, results.std()*100.0))"
   ]
  },
  {
   "cell_type": "code",
   "execution_count": null,
   "metadata": {},
   "outputs": [],
   "source": [
    "# Evaluate using Cross Validation\n",
    "from sklearn.model_selection import KFold\n",
    "from sklearn.model_selection import cross_val_score\n",
    "\n",
    "num_folds = 18\n",
    "seed = 2019\n",
    "kfold = KFold(n_splits=num_folds, random_state=seed)\n",
    "model = best_clf\n",
    "results = cross_val_score(model, X, y, cv=kfold)\n",
    "print(\"Accuracy: %.3f%% (%.3f%%)\" % (results.mean()*100.0, results.std()*100.0))"
   ]
  },
  {
   "cell_type": "code",
   "execution_count": null,
   "metadata": {},
   "outputs": [],
   "source": [
    "# Cross Validation Classification LogLoss\n",
    "kfold = KFold(n_splits=10, random_state=7)\n",
    "model = best_clf\n",
    "scoring = 'neg_log_loss'\n",
    "results = cross_val_score(model, X, y, cv=kfold, scoring=scoring)\n",
    "print(\"Logloss: %.3f (%.3f)\" % (results.mean(), results.std()))"
   ]
  },
  {
   "cell_type": "code",
   "execution_count": null,
   "metadata": {},
   "outputs": [],
   "source": [
    "# Evaluate using Shuffle Split Cross Validation\n",
    "from sklearn.model_selection import ShuffleSplit\n",
    "from sklearn.model_selection import cross_val_score\n",
    "\n",
    "n_splits = 29\n",
    "test_size = 0.33\n",
    "seed = 2019\n",
    "kfold = ShuffleSplit(n_splits=n_splits, test_size=test_size, random_state=seed)\n",
    "model = best_clf\n",
    "results = cross_val_score(model, X, y, cv=kfold)\n",
    "print(\"Accuracy: %.3f%% (%.3f%%)\" % (results.mean()*100.0, results.std()*100.0))"
   ]
  },
  {
   "cell_type": "code",
   "execution_count": null,
   "metadata": {},
   "outputs": [],
   "source": [
    "# from sklearn.svm import SVC\n",
    "\n",
    "# num_folds = 14\n",
    "# seed = 2019\n",
    "# kfold = KFold(n_splits=num_folds, random_state=seed)\n",
    "# model = SVC(C=1.0, kernel='rbf')\n",
    "# results = cross_val_score(model, X, y, cv=kfold)\n",
    "# print(\"Accuracy: %.3f%% (%.3f%%)\" % (results.mean()*100.0, results.std()*100.0))"
   ]
  },
  {
   "cell_type": "markdown",
   "metadata": {},
   "source": [
    "# Improve Performance with Ensembles"
   ]
  },
  {
   "cell_type": "markdown",
   "metadata": {},
   "source": [
    "A.1 Bagged Decision Trees"
   ]
  },
  {
   "cell_type": "code",
   "execution_count": null,
   "metadata": {},
   "outputs": [],
   "source": [
    "# Bagged Decision Trees for Classification\n",
    "\n",
    "from sklearn.ensemble import BaggingClassifier\n",
    "\n",
    "num_folds = 18\n",
    "seed = 2019\n",
    "kfold = KFold(n_splits=num_folds, random_state=seed)\n",
    "num_trees = 100\n",
    "model = BaggingClassifier(base_estimator=best_clf, n_estimators=num_trees, random_state=seed)\n",
    "results = cross_val_score(model, X, y, cv=kfold)\n",
    "print(results.mean(), results.std())"
   ]
  },
  {
   "cell_type": "markdown",
   "metadata": {},
   "source": [
    "A.2 Random Forest"
   ]
  },
  {
   "cell_type": "code",
   "execution_count": null,
   "metadata": {},
   "outputs": [],
   "source": [
    "# Random Forest Classification\n",
    "from sklearn.ensemble import RandomForestClassifier\n",
    "\n",
    "num_trees = 100\n",
    "max_features = 3\n",
    "kfold = KFold(n_splits=18, random_state=2019)\n",
    "model = RandomForestClassifier(n_estimators=num_trees, max_features=max_features)\n",
    "results = cross_val_score(model, X, y, cv=kfold)\n",
    "print(results.mean(), results.std())"
   ]
  },
  {
   "cell_type": "markdown",
   "metadata": {},
   "source": [
    "A.3 Extra Trees"
   ]
  },
  {
   "cell_type": "code",
   "execution_count": null,
   "metadata": {},
   "outputs": [],
   "source": [
    "# Extra Trees Classification\n",
    "from sklearn.ensemble import ExtraTreesClassifier\n",
    "\n",
    "num_trees = 100\n",
    "max_features = 7\n",
    "kfold = KFold(n_splits=18, random_state=2019)\n",
    "model = ExtraTreesClassifier(n_estimators=num_trees, max_features=max_features)\n",
    "results = cross_val_score(model, X, y, cv=kfold)\n",
    "print(results.mean(), results.std())"
   ]
  },
  {
   "cell_type": "markdown",
   "metadata": {},
   "source": [
    "# Comparison ML packages"
   ]
  },
  {
   "cell_type": "code",
   "execution_count": null,
   "metadata": {},
   "outputs": [],
   "source": [
    "# Load ML packages\n",
    "\n",
    "from sklearn.model_selection import KFold\n",
    "from sklearn.model_selection import cross_val_score\n",
    "from sklearn.linear_model import LogisticRegression\n",
    "from sklearn.tree import DecisionTreeClassifier\n",
    "from sklearn.neighbors import KNeighborsClassifier\n",
    "from sklearn.discriminant_analysis import LinearDiscriminantAnalysis\n",
    "from sklearn.naive_bayes import GaussianNB\n",
    "from sklearn.ensemble import RandomForestClassifier\n",
    "# from sklearn.svm import SVC"
   ]
  },
  {
   "cell_type": "code",
   "execution_count": null,
   "metadata": {},
   "outputs": [],
   "source": [
    "# Prepare models\n",
    "models = []\n",
    "models.append(('LR', LogisticRegression()))\n",
    "models.append(('LDA', LinearDiscriminantAnalysis()))\n",
    "models.append(('KNN', KNeighborsClassifier()))\n",
    "models.append(('CART', best_clf))\n",
    "models.append(('NB', GaussianNB()))\n",
    "models.append(('RFC', RandomForestClassifier()))\n",
    "# models.append(('SVM', SVC()))\n",
    "\n",
    "# evaluate each model in turn\n",
    "results = []\n",
    "names = []\n",
    "scoring = 'accuracy'\n",
    "for name, model in models:\n",
    "    kfold = KFold(n_splits=18, random_state=2019)\n",
    "    cv_results = cross_val_score(model, X, y, cv=kfold, scoring=scoring)\n",
    "    results.append(cv_results)\n",
    "    names.append(name)\n",
    "    msg = \"%s: %f (%f)\" % (name, cv_results.mean(), cv_results.std())\n",
    "    print(msg)"
   ]
  },
  {
   "cell_type": "code",
   "execution_count": null,
   "metadata": {},
   "outputs": [],
   "source": [
    "# boxplot algorithm comparison\n",
    "\n",
    "fig = plt.figure(figsize=(9, 9))\n",
    "fig.suptitle('Algorithm Comparison')\n",
    "ax = fig.add_subplot(111)\n",
    "plt.boxplot(results)\n",
    "ax.set_xticklabels(names)\n",
    "plt.show()"
   ]
  },
  {
   "cell_type": "code",
   "execution_count": null,
   "metadata": {},
   "outputs": [],
   "source": []
  },
  {
   "cell_type": "code",
   "execution_count": null,
   "metadata": {},
   "outputs": [],
   "source": []
  }
 ],
 "metadata": {
  "kernelspec": {
   "display_name": "Python 3",
   "language": "python",
   "name": "python3"
  },
  "language_info": {
   "codemirror_mode": {
    "name": "ipython",
    "version": 3
   },
   "file_extension": ".py",
   "mimetype": "text/x-python",
   "name": "python",
   "nbconvert_exporter": "python",
   "pygments_lexer": "ipython3",
   "version": "3.7.7"
  }
 },
 "nbformat": 4,
 "nbformat_minor": 2
}
